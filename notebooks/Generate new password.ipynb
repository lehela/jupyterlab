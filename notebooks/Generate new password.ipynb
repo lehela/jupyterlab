{
 "cells": [
  {
   "cell_type": "markdown",
   "id": "4ecb869e",
   "metadata": {},
   "source": [
    "# Generate password"
   ]
  },
  {
   "cell_type": "markdown",
   "id": "9464f974",
   "metadata": {},
   "source": [
    "**Step 1**\n",
    "\n",
    "Run below cell"
   ]
  },
  {
   "cell_type": "code",
   "execution_count": 1,
   "id": "e752897b",
   "metadata": {},
   "outputs": [
    {
     "name": "stdin",
     "output_type": "stream",
     "text": [
      "Enter password:  ··········\n",
      "Verify password:  ··········\n"
     ]
    },
    {
     "data": {
      "text/plain": [
       "'argon2:$argon2id$v=19$m=10240,t=10,p=8$3/lBKD87VNiyHAJw70aXGQ$5U+TGoGc1Dz8fvlFRpOzqA'"
      ]
     },
     "execution_count": 1,
     "metadata": {},
     "output_type": "execute_result"
    }
   ],
   "source": [
    "from notebook.auth import passwd\n",
    "passwd()"
   ]
  },
  {
   "cell_type": "markdown",
   "id": "464250b4",
   "metadata": {},
   "source": [
    "**Step 2**\n",
    "\n",
    "Go to the docker host's project root folder to which you've cloned the [github project](https://github.com/lehela/jupyterlab).\n",
    "\n",
    "Copy the generated password to the file `{root folder}/notebooks/.jupyter/jupyter_notebook_config.json` (Create if it doesn't exist yet):\n",
    "\n",
    "```json\n",
    "{\n",
    "  \"NotebookApp\": {\n",
    "    \"password\": \"argon2:...\"\n",
    "  }\n",
    "}\n",
    "```"
   ]
  },
  {
   "cell_type": "markdown",
   "id": "132c2c68",
   "metadata": {},
   "source": [
    "**Step 3**\n",
    "\n",
    "Restart the docker container for the new password to take effect:\n",
    "\n",
    "```code\n",
    "$ stop.sh\n",
    "$ start.sh\n",
    "```"
   ]
  }
 ],
 "metadata": {
  "kernelspec": {
   "display_name": "Python 3",
   "language": "python",
   "name": "python3"
  },
  "language_info": {
   "codemirror_mode": {
    "name": "ipython",
    "version": 3
   },
   "file_extension": ".py",
   "mimetype": "text/x-python",
   "name": "python",
   "nbconvert_exporter": "python",
   "pygments_lexer": "ipython3",
   "version": "3.9.1"
  }
 },
 "nbformat": 4,
 "nbformat_minor": 5
}
